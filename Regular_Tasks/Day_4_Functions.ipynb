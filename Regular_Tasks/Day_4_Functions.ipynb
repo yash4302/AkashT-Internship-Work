{
 "cells": [
  {
   "cell_type": "code",
   "execution_count": 3,
   "metadata": {},
   "outputs": [
    {
     "name": "stdout",
     "output_type": "stream",
     "text": [
      "Hello World from fun()\n",
      "Hello World from fun()\n",
      "Hello World from fun()\n"
     ]
    }
   ],
   "source": [
    "def fun():\n",
    "    print(\"Hello World from fun()\")\n",
    "    \n",
    "fun()\n",
    "fun()\n",
    "fun()"
   ]
  },
  {
   "cell_type": "code",
   "execution_count": 4,
   "metadata": {},
   "outputs": [
    {
     "name": "stdout",
     "output_type": "stream",
     "text": [
      "Hello Wolrd from fun(msg)\n",
      "Yash from fun(msg)\n"
     ]
    }
   ],
   "source": [
    "def fun(msg):\n",
    "    print(msg, \"from fun(msg)\")\n",
    "\n",
    "fun(\"Hello Wolrd\")\n",
    "fun(\"Yash\")"
   ]
  },
  {
   "cell_type": "code",
   "execution_count": 5,
   "metadata": {},
   "outputs": [
    {
     "name": "stdout",
     "output_type": "stream",
     "text": [
      "Name : Yash\n"
     ]
    }
   ],
   "source": [
    "def fun():\n",
    "    name = \"Yash\"\n",
    "    return name\n",
    "\n",
    "name = fun()\n",
    "print(\"Name :\", name)\n",
    "print(\"Name :\", fun())"
   ]
  },
  {
   "cell_type": "code",
   "execution_count": 7,
   "metadata": {},
   "outputs": [
    {
     "name": "stdout",
     "output_type": "stream",
     "text": [
      "Name : Yash \n",
      "College : DEPSTAR\n"
     ]
    }
   ],
   "source": [
    "def fun():\n",
    "    name = \"Yash\"\n",
    "    college = \"DEPSTAR\"\n",
    "    return name, college\n",
    "\n",
    "nm, clg = fun()\n",
    "print(\"Name :\", nm, \"\\nCollege :\", clg)"
   ]
  },
  {
   "cell_type": "code",
   "execution_count": 8,
   "metadata": {},
   "outputs": [
    {
     "name": "stdout",
     "output_type": "stream",
     "text": [
      "Sum : 12\n",
      "Sum : 17\n",
      "Sum : 30\n"
     ]
    }
   ],
   "source": [
    "def sum(a=5, b=7):\n",
    "    print(\"Sum :\", a+b)\n",
    "    \n",
    "sum()\n",
    "sum(10)\n",
    "sum(10,20)"
   ]
  },
  {
   "cell_type": "code",
   "execution_count": 10,
   "metadata": {},
   "outputs": [
    {
     "name": "stdout",
     "output_type": "stream",
     "text": [
      "Sum : 17\n",
      "Sum : 15\n",
      "Sum : 30\n"
     ]
    }
   ],
   "source": [
    "def sum(a=5, b=7):\n",
    "    print(\"Sum :\", a+b)\n",
    "\n",
    "sum(10)\n",
    "# Keyword Arguments\n",
    "sum(b=10)\n",
    "sum(b=10,a=20)"
   ]
  },
  {
   "cell_type": "code",
   "execution_count": 11,
   "metadata": {},
   "outputs": [
    {
     "name": "stdout",
     "output_type": "stream",
     "text": [
      "Sum : 0\n",
      "Sum : 10\n",
      "Sum : 30\n",
      "Sum : 100\n"
     ]
    }
   ],
   "source": [
    "# Non-keyword Variable-length Arguments\n",
    "def sum(*nums):\n",
    "    sum = 0\n",
    "    for n in nums:\n",
    "        sum += n\n",
    "    print(\"Sum :\", sum)\n",
    "    \n",
    "\n",
    "sum()\n",
    "sum(10)\n",
    "sum(10,20)\n",
    "sum(10,20,30,40)"
   ]
  },
  {
   "cell_type": "code",
   "execution_count": 16,
   "metadata": {},
   "outputs": [
    {
     "name": "stdout",
     "output_type": "stream",
     "text": [
      "a : 10\n",
      "Name : Yash\n",
      "b : 20\n",
      "college : DEPSTAR\n"
     ]
    }
   ],
   "source": [
    "# Keyword Variable-length Arguments\n",
    "def sum(**data): #data is stored as a dictionary\n",
    "    for key, value in data.items():\n",
    "        print(key, \":\", value)\n",
    "        \n",
    "sum(a=10, Name=\"Yash\", b=20, college=\"DEPSTAR\")"
   ]
  },
  {
   "cell_type": "code",
   "execution_count": 18,
   "metadata": {},
   "outputs": [
    {
     "name": "stdout",
     "output_type": "stream",
     "text": [
      "20\n",
      "10\n"
     ]
    }
   ],
   "source": [
    "x = 10\n",
    "print(x)\n",
    "\n",
    "def sum():\n",
    "    x = 20\n",
    "    print(x)\n",
    "    \n",
    "\n",
    "sum()\n",
    "print(x)"
   ]
  },
  {
   "cell_type": "code",
   "execution_count": 19,
   "metadata": {},
   "outputs": [
    {
     "name": "stdout",
     "output_type": "stream",
     "text": [
      "10\n",
      "20\n",
      "20\n"
     ]
    }
   ],
   "source": [
    "x = 10\n",
    "print(x)\n",
    "\n",
    "def sum():\n",
    "    global x\n",
    "    x = 20\n",
    "    print(x)\n",
    "    \n",
    "\n",
    "sum()\n",
    "print(x)"
   ]
  },
  {
   "cell_type": "code",
   "execution_count": null,
   "metadata": {},
   "outputs": [],
   "source": []
  }
 ],
 "metadata": {
  "kernelspec": {
   "display_name": "Python 3",
   "language": "python",
   "name": "python3"
  },
  "language_info": {
   "codemirror_mode": {
    "name": "ipython",
    "version": 3
   },
   "file_extension": ".py",
   "mimetype": "text/x-python",
   "name": "python",
   "nbconvert_exporter": "python",
   "pygments_lexer": "ipython3",
   "version": "3.8.5"
  }
 },
 "nbformat": 4,
 "nbformat_minor": 4
}
