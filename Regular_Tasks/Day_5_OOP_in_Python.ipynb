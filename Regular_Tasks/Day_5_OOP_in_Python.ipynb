{
 "cells": [
  {
   "cell_type": "markdown",
   "metadata": {},
   "source": [
    "# Class\n",
    "\n",
    "Object: Any real world thing that has some properties and some behaviours <br/>\n",
    "Class: Blueprint of similar objects"
   ]
  },
  {
   "cell_type": "code",
   "execution_count": 3,
   "metadata": {},
   "outputs": [
    {
     "name": "stdout",
     "output_type": "stream",
     "text": [
      "This is myFunctions of class...\n"
     ]
    }
   ],
   "source": [
    "class Demo:\n",
    "    def myFunction(self):\n",
    "        print(\"This is myFunctions of class...\")\n",
    "\n",
    "        \n",
    "d1 = Demo()\n",
    "d1.myFunction()"
   ]
  },
  {
   "cell_type": "code",
   "execution_count": 4,
   "metadata": {},
   "outputs": [
    {
     "name": "stdout",
     "output_type": "stream",
     "text": [
      "This is myFunctions of class...\n",
      "Value is Yash\n"
     ]
    }
   ],
   "source": [
    "class Demo:\n",
    "    def myFunction(self):\n",
    "        print(\"This is myFunctions of class...\")\n",
    "    \n",
    "    def show(self, name):\n",
    "        print(\"Value is\", name)\n",
    "\n",
    "        \n",
    "d1 = Demo()\n",
    "d1.myFunction()\n",
    "d1.show(\"Yash\")"
   ]
  },
  {
   "cell_type": "code",
   "execution_count": 5,
   "metadata": {},
   "outputs": [
    {
     "name": "stdout",
     "output_type": "stream",
     "text": [
      "This is Demo class..\n",
      "Answer : 30\n"
     ]
    }
   ],
   "source": [
    "class Demo:\n",
    "    def __init__(self):\n",
    "        print(\"This is Demo class..\")\n",
    "    \n",
    "    def myFunction(self):\n",
    "        print(\"This is myFunctions of class...\")\n",
    "    \n",
    "    def show(self, name):\n",
    "        print(\"Value is\", name)\n",
    "        \n",
    "    def func1(self, num1, num2):\n",
    "        ans = num1 + num2\n",
    "        print(\"Answer :\", ans)\n",
    "        \n",
    "\n",
    "d1 = Demo()\n",
    "d1.func1(10, 20)"
   ]
  },
  {
   "cell_type": "code",
   "execution_count": 6,
   "metadata": {
    "scrolled": true
   },
   "outputs": [
    {
     "name": "stdout",
     "output_type": "stream",
     "text": [
      "This is Demo class..\n",
      "Name is : Yash\n",
      "Answer : 30\n"
     ]
    }
   ],
   "source": [
    "class Demo:\n",
    "    def __init__(self, name):\n",
    "        print(\"This is Demo class..\")\n",
    "        print(\"Name is :\", name)\n",
    "    \n",
    "    def myFunction(self):\n",
    "        print(\"This is myFunctions of class...\")\n",
    "    \n",
    "    def show(self, name):\n",
    "        print(\"Value is\", name)\n",
    "        \n",
    "    def func1(self, num1, num2):\n",
    "        ans = num1 + num2\n",
    "        print(\"Answer :\", ans)\n",
    "        \n",
    "        \n",
    "d1 = Demo(\"Yash\")\n",
    "d1.func1(10, 20)"
   ]
  },
  {
   "cell_type": "code",
   "execution_count": 7,
   "metadata": {},
   "outputs": [
    {
     "name": "stdout",
     "output_type": "stream",
     "text": [
      "This is normal method...\n",
      "Name is : Yash\n"
     ]
    }
   ],
   "source": [
    "class Demo:\n",
    "    name = \"\"\n",
    "    \n",
    "    def func1(self):\n",
    "        print(\"This is normal method...\")\n",
    "        \n",
    "    def func2(self, name):\n",
    "        self.name = name\n",
    "    \n",
    "    def show(self):\n",
    "        print(\"Name is :\", self.name)\n",
    "        \n",
    "        \n",
    "d1 = Demo()\n",
    "d1.func1()\n",
    "d1.func2(\"Yash\")\n",
    "d1.show()"
   ]
  },
  {
   "cell_type": "markdown",
   "metadata": {},
   "source": [
    "# Inheritance\n",
    "\n",
    "1. Single level\n",
    "2. Multilevel\n",
    "3. Multiple\n",
    "4. Hierarchical\n",
    "5. Hybrid\n",
    "\n",
    "# Single level"
   ]
  },
  {
   "cell_type": "code",
   "execution_count": 8,
   "metadata": {},
   "outputs": [
    {
     "name": "stdout",
     "output_type": "stream",
     "text": [
      "This is parent class method...\n",
      "This is child class method...\n"
     ]
    }
   ],
   "source": [
    "class Demo:\n",
    "    def func1(self):\n",
    "        print(\"This is parent class method...\")\n",
    "        \n",
    "\n",
    "class Demo1(Demo):\n",
    "    def func2(self):\n",
    "        print(\"This is child class method...\")\n",
    "        \n",
    "        \n",
    "d1 = Demo1()\n",
    "d1.func1()\n",
    "d1.func2()"
   ]
  },
  {
   "cell_type": "code",
   "execution_count": 9,
   "metadata": {},
   "outputs": [
    {
     "name": "stdout",
     "output_type": "stream",
     "text": [
      "This is child class...\n",
      "This is parent class method...\n",
      "This is child class method...\n"
     ]
    }
   ],
   "source": [
    "class Demo:\n",
    "    def __init__(self):\n",
    "        print(\"This is parent class...\")\n",
    "    \n",
    "    def func1(self):\n",
    "        print(\"This is parent class method...\")\n",
    "        \n",
    "\n",
    "class Demo1(Demo):\n",
    "    def __init__(self):\n",
    "        print(\"This is child class...\")\n",
    "    \n",
    "    def func2(self):\n",
    "        print(\"This is child class method...\")\n",
    "        \n",
    "        \n",
    "d1 = Demo1()\n",
    "d1.func1()\n",
    "d1.func2()"
   ]
  },
  {
   "cell_type": "markdown",
   "metadata": {},
   "source": [
    "# Multilevel"
   ]
  },
  {
   "cell_type": "code",
   "execution_count": 12,
   "metadata": {},
   "outputs": [
    {
     "name": "stdout",
     "output_type": "stream",
     "text": [
      "This is grandchild class...\n",
      "This is parent class method...\n",
      "This is child class method...\n",
      "This is grand-child class method...\n"
     ]
    }
   ],
   "source": [
    "class Demo:\n",
    "    def __init__(self):\n",
    "        print(\"This is parent class...\")\n",
    "    \n",
    "    def func1(self):\n",
    "        print(\"This is parent class method...\")\n",
    "        \n",
    "\n",
    "class Demo1(Demo):\n",
    "    def __init__(self):\n",
    "        print(\"This is child class...\")\n",
    "    \n",
    "    def func2(self):\n",
    "        print(\"This is child class method...\")\n",
    "        \n",
    "\n",
    "class Demo2(Demo1):\n",
    "    def __init__(self):\n",
    "        print(\"This is grandchild class...\")\n",
    "    \n",
    "    def func3(self):\n",
    "        print(\"This is grand-child class method...\")\n",
    "        \n",
    "        \n",
    "d1 = Demo2()\n",
    "d1.func1()\n",
    "d1.func2()\n",
    "d1.func3()"
   ]
  },
  {
   "cell_type": "markdown",
   "metadata": {},
   "source": [
    "# Multiple"
   ]
  },
  {
   "cell_type": "code",
   "execution_count": 14,
   "metadata": {},
   "outputs": [
    {
     "name": "stdout",
     "output_type": "stream",
     "text": [
      "This is grandchild class...\n",
      "This is parent class method...\n",
      "This is child class method...\n",
      "This is grand-child class method...\n"
     ]
    }
   ],
   "source": [
    "class Demo:\n",
    "    def __init__(self):\n",
    "        print(\"This is parent class...\")\n",
    "    \n",
    "    def func1(self):\n",
    "        print(\"This is parent class method...\")\n",
    "        \n",
    "\n",
    "class Demo1():\n",
    "    def __init__(self):\n",
    "        print(\"This is child class...\")\n",
    "    \n",
    "    def func2(self):\n",
    "        print(\"This is child class method...\")\n",
    "        \n",
    "\n",
    "class Demo2(Demo, Demo1):\n",
    "    def __init__(self):\n",
    "        print(\"This is grandchild class...\")\n",
    "    \n",
    "    def func3(self):\n",
    "        print(\"This is grand-child class method...\")\n",
    "        \n",
    "        \n",
    "d1 = Demo2()\n",
    "d1.func1()\n",
    "d1.func2()\n",
    "d1.func3()"
   ]
  },
  {
   "cell_type": "markdown",
   "metadata": {},
   "source": [
    "# Hierarchical"
   ]
  },
  {
   "cell_type": "code",
   "execution_count": 20,
   "metadata": {},
   "outputs": [
    {
     "name": "stdout",
     "output_type": "stream",
     "text": [
      "This is child class...\n",
      "This is parent class method...\n",
      "This is child class method...\n",
      "This is grandchild class...\n",
      "This is parent class method...\n",
      "This is grand-child class method...\n"
     ]
    }
   ],
   "source": [
    "class Demo:\n",
    "    def __init__(self):\n",
    "        print(\"This is parent class...\")\n",
    "    \n",
    "    def func1(self):\n",
    "        print(\"This is parent class method...\")\n",
    "        \n",
    "\n",
    "class Demo1(Demo):\n",
    "    def __init__(self):\n",
    "        print(\"This is child class...\")\n",
    "    \n",
    "    def func2(self):\n",
    "        print(\"This is child class method...\")\n",
    "        \n",
    "\n",
    "class Demo2(Demo):\n",
    "    def __init__(self):\n",
    "        print(\"This is grandchild class...\")\n",
    "    \n",
    "    def func3(self):\n",
    "        print(\"This is grand-child class method...\")\n",
    "        \n",
    "        \n",
    "d1 = Demo1()\n",
    "d1.func1()\n",
    "d1.func2()\n",
    "\n",
    "d2 = Demo2()\n",
    "d2.func1()\n",
    "d2.func3()"
   ]
  },
  {
   "cell_type": "markdown",
   "metadata": {},
   "source": [
    "# Method Overriding"
   ]
  },
  {
   "cell_type": "code",
   "execution_count": 22,
   "metadata": {},
   "outputs": [
    {
     "name": "stdout",
     "output_type": "stream",
     "text": [
      "This is child class method...\n",
      "This is parent class method...\n"
     ]
    }
   ],
   "source": [
    "class Demo:\n",
    "    def func1(self):\n",
    "        print(\"This is parent class method...\")\n",
    "        \n",
    "\n",
    "class Demo1(Demo):\n",
    "    def func1(self):\n",
    "        print(\"This is child class method...\")\n",
    "        \n",
    "\n",
    "d1 = Demo1()\n",
    "d1.func1()\n",
    "d1 = Demo()\n",
    "d1.func1()"
   ]
  },
  {
   "cell_type": "markdown",
   "metadata": {},
   "source": [
    "# Method Overloading\n",
    "\n",
    "This isn't supported by python yet. <br/>\n",
    "The most recently defined method will be called only, others will be ignored"
   ]
  },
  {
   "cell_type": "code",
   "execution_count": 26,
   "metadata": {},
   "outputs": [
    {
     "name": "stdout",
     "output_type": "stream",
     "text": [
      "Sum : 60\n"
     ]
    }
   ],
   "source": [
    "class Demo:\n",
    "    def func1(self, a, b):\n",
    "        print(\"Sum :\", a+b)\n",
    "    \n",
    "    def func1(self, a, b, c):\n",
    "        print(\"Sum :\", a+b+c)\n",
    "        \n",
    "\n",
    "d1 = Demo()\n",
    "# d1.func1(10, 20)\n",
    "d1.func1(10, 20, 30)"
   ]
  },
  {
   "cell_type": "code",
   "execution_count": null,
   "metadata": {},
   "outputs": [],
   "source": []
  }
 ],
 "metadata": {
  "kernelspec": {
   "display_name": "Python 3",
   "language": "python",
   "name": "python3"
  },
  "language_info": {
   "codemirror_mode": {
    "name": "ipython",
    "version": 3
   },
   "file_extension": ".py",
   "mimetype": "text/x-python",
   "name": "python",
   "nbconvert_exporter": "python",
   "pygments_lexer": "ipython3",
   "version": "3.8.5"
  }
 },
 "nbformat": 4,
 "nbformat_minor": 4
}
