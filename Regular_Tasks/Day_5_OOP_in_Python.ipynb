{
 "cells": [
  {
   "cell_type": "markdown",
   "metadata": {},
   "source": [
    "# Class\n",
    "\n",
    "Object: Any real world thing that has some properties and some behaviours <br/>\n",
    "Class: Blueprint of similar objects"
   ]
  },
  {
   "cell_type": "code",
   "execution_count": 3,
   "metadata": {},
   "outputs": [
    {
     "name": "stdout",
     "output_type": "stream",
     "text": [
      "This is myFunctions of class...\n"
     ]
    }
   ],
   "source": [
    "class Demo:\n",
    "    def myFunction(self):\n",
    "        print(\"This is myFunctions of class...\")\n",
    "\n",
    "        \n",
    "d1 = Demo()\n",
    "d1.myFunction()"
   ]
  },
  {
   "cell_type": "code",
   "execution_count": 4,
   "metadata": {},
   "outputs": [
    {
     "name": "stdout",
     "output_type": "stream",
     "text": [
      "This is myFunctions of class...\n",
      "Value is Yash\n"
     ]
    }
   ],
   "source": [
    "class Demo:\n",
    "    def myFunction(self):\n",
    "        print(\"This is myFunctions of class...\")\n",
    "    \n",
    "    def show(self, name):\n",
    "        print(\"Value is\", name)\n",
    "\n",
    "        \n",
    "d1 = Demo()\n",
    "d1.myFunction()\n",
    "d1.show(\"Yash\")"
   ]
  },
  {
   "cell_type": "code",
   "execution_count": 5,
   "metadata": {},
   "outputs": [
    {
     "name": "stdout",
     "output_type": "stream",
     "text": [
      "This is Demo class..\n",
      "Answer : 30\n"
     ]
    }
   ],
   "source": [
    "class Demo:\n",
    "    def __init__(self):\n",
    "        print(\"This is Demo class..\")\n",
    "    \n",
    "    def myFunction(self):\n",
    "        print(\"This is myFunctions of class...\")\n",
    "    \n",
    "    def show(self, name):\n",
    "        print(\"Value is\", name)\n",
    "        \n",
    "    def func1(self, num1, num2):\n",
    "        ans = num1 + num2\n",
    "        print(\"Answer :\", ans)\n",
    "        \n",
    "\n",
    "d1 = Demo()\n",
    "d1.func1(10, 20)"
   ]
  },
  {
   "cell_type": "code",
   "execution_count": 6,
   "metadata": {
    "scrolled": true
   },
   "outputs": [
    {
     "name": "stdout",
     "output_type": "stream",
     "text": [
      "This is Demo class..\n",
      "Name is : Yash\n",
      "Answer : 30\n"
     ]
    }
   ],
   "source": [
    "class Demo:\n",
    "    def __init__(self, name):\n",
    "        print(\"This is Demo class..\")\n",
    "        print(\"Name is :\", name)\n",
    "    \n",
    "    def myFunction(self):\n",
    "        print(\"This is myFunctions of class...\")\n",
    "    \n",
    "    def show(self, name):\n",
    "        print(\"Value is\", name)\n",
    "        \n",
    "    def func1(self, num1, num2):\n",
    "        ans = num1 + num2\n",
    "        print(\"Answer :\", ans)\n",
    "        \n",
    "        \n",
    "d1 = Demo(\"Yash\")\n",
    "d1.func1(10, 20)"
   ]
  },
  {
   "cell_type": "code",
   "execution_count": 7,
   "metadata": {},
   "outputs": [
    {
     "name": "stdout",
     "output_type": "stream",
     "text": [
      "This is normal method...\n",
      "Name is : Yash\n"
     ]
    }
   ],
   "source": [
    "class Demo:\n",
    "    name = \"\"\n",
    "    \n",
    "    def func1(self):\n",
    "        print(\"This is normal method...\")\n",
    "        \n",
    "    def func2(self, name):\n",
    "        self.name = name\n",
    "    \n",
    "    def show(self):\n",
    "        print(\"Name is :\", self.name)\n",
    "        \n",
    "        \n",
    "d1 = Demo()\n",
    "d1.func1()\n",
    "d1.func2(\"Yash\")\n",
    "d1.show()"
   ]
  },
  {
   "cell_type": "markdown",
   "metadata": {},
   "source": [
    "# Inheritance\n",
    "\n",
    "1. Single level\n",
    "2. Multilevel\n",
    "3. Multiple\n",
    "4. Hierarchical\n",
    "5. Hybrid\n",
    "\n",
    "# Single level"
   ]
  },
  {
   "cell_type": "code",
   "execution_count": 8,
   "metadata": {},
   "outputs": [
    {
     "name": "stdout",
     "output_type": "stream",
     "text": [
      "This is parent class method...\n",
      "This is child class method...\n"
     ]
    }
   ],
   "source": [
    "class Demo:\n",
    "    def func1(self):\n",
    "        print(\"This is parent class method...\")\n",
    "        \n",
    "\n",
    "class Demo1(Demo):\n",
    "    def func2(self):\n",
    "        print(\"This is child class method...\")\n",
    "        \n",
    "        \n",
    "d1 = Demo1()\n",
    "d1.func1()\n",
    "d1.func2()"
   ]
  },
  {
   "cell_type": "code",
   "execution_count": 9,
   "metadata": {},
   "outputs": [
    {
     "name": "stdout",
     "output_type": "stream",
     "text": [
      "This is child class...\n",
      "This is parent class method...\n",
      "This is child class method...\n"
     ]
    }
   ],
   "source": [
    "class Demo:\n",
    "    def __init__(self):\n",
    "        print(\"This is parent class...\")\n",
    "    \n",
    "    def func1(self):\n",
    "        print(\"This is parent class method...\")\n",
    "        \n",
    "\n",
    "class Demo1(Demo):\n",
    "    def __init__(self):\n",
    "        print(\"This is child class...\")\n",
    "    \n",
    "    def func2(self):\n",
    "        print(\"This is child class method...\")\n",
    "        \n",
    "        \n",
    "d1 = Demo1()\n",
    "d1.func1()\n",
    "d1.func2()"
   ]
  },
  {
   "cell_type": "markdown",
   "metadata": {},
   "source": [
    "# Multilevel"
   ]
  },
  {
   "cell_type": "code",
   "execution_count": 12,
   "metadata": {},
   "outputs": [
    {
     "name": "stdout",
     "output_type": "stream",
     "text": [
      "This is grandchild class...\n",
      "This is parent class method...\n",
      "This is child class method...\n",
      "This is grand-child class method...\n"
     ]
    }
   ],
   "source": [
    "class Demo:\n",
    "    def __init__(self):\n",
    "        print(\"This is parent class...\")\n",
    "    \n",
    "    def func1(self):\n",
    "        print(\"This is parent class method...\")\n",
    "        \n",
    "\n",
    "class Demo1(Demo):\n",
    "    def __init__(self):\n",
    "        print(\"This is child class...\")\n",
    "    \n",
    "    def func2(self):\n",
    "        print(\"This is child class method...\")\n",
    "        \n",
    "\n",
    "class Demo2(Demo1):\n",
    "    def __init__(self):\n",
    "        print(\"This is grandchild class...\")\n",
    "    \n",
    "    def func3(self):\n",
    "        print(\"This is grand-child class method...\")\n",
    "        \n",
    "        \n",
    "d1 = Demo2()\n",
    "d1.func1()\n",
    "d1.func2()\n",
    "d1.func3()"
   ]
  },
  {
   "cell_type": "markdown",
   "metadata": {},
   "source": [
    "# Multiple"
   ]
  },
  {
   "cell_type": "code",
   "execution_count": 14,
   "metadata": {},
   "outputs": [
    {
     "name": "stdout",
     "output_type": "stream",
     "text": [
      "This is grandchild class...\n",
      "This is parent class method...\n",
      "This is child class method...\n",
      "This is grand-child class method...\n"
     ]
    }
   ],
   "source": [
    "class Demo:\n",
    "    def __init__(self):\n",
    "        print(\"This is parent class...\")\n",
    "    \n",
    "    def func1(self):\n",
    "        print(\"This is parent class method...\")\n",
    "        \n",
    "\n",
    "class Demo1():\n",
    "    def __init__(self):\n",
    "        print(\"This is child class...\")\n",
    "    \n",
    "    def func2(self):\n",
    "        print(\"This is child class method...\")\n",
    "        \n",
    "\n",
    "class Demo2(Demo, Demo1):\n",
    "    def __init__(self):\n",
    "        print(\"This is grandchild class...\")\n",
    "    \n",
    "    def func3(self):\n",
    "        print(\"This is grand-child class method...\")\n",
    "        \n",
    "        \n",
    "d1 = Demo2()\n",
    "d1.func1()\n",
    "d1.func2()\n",
    "d1.func3()"
   ]
  },
  {
   "cell_type": "markdown",
   "metadata": {},
   "source": [
    "# Hierarchical"
   ]
  },
  {
   "cell_type": "code",
   "execution_count": 20,
   "metadata": {},
   "outputs": [
    {
     "name": "stdout",
     "output_type": "stream",
     "text": [
      "This is child class...\n",
      "This is parent class method...\n",
      "This is child class method...\n",
      "This is grandchild class...\n",
      "This is parent class method...\n",
      "This is grand-child class method...\n"
     ]
    }
   ],
   "source": [
    "class Demo:\n",
    "    def __init__(self):\n",
    "        print(\"This is parent class...\")\n",
    "    \n",
    "    def func1(self):\n",
    "        print(\"This is parent class method...\")\n",
    "        \n",
    "\n",
    "class Demo1(Demo):\n",
    "    def __init__(self):\n",
    "        print(\"This is child class...\")\n",
    "    \n",
    "    def func2(self):\n",
    "        print(\"This is child class method...\")\n",
    "        \n",
    "\n",
    "class Demo2(Demo):\n",
    "    def __init__(self):\n",
    "        print(\"This is grandchild class...\")\n",
    "    \n",
    "    def func3(self):\n",
    "        print(\"This is grand-child class method...\")\n",
    "        \n",
    "        \n",
    "d1 = Demo1()\n",
    "d1.func1()\n",
    "d1.func2()\n",
    "\n",
    "d2 = Demo2()\n",
    "d2.func1()\n",
    "d2.func3()"
   ]
  },
  {
   "cell_type": "markdown",
   "metadata": {},
   "source": [
    "# Method Overriding"
   ]
  },
  {
   "cell_type": "code",
   "execution_count": 22,
   "metadata": {},
   "outputs": [
    {
     "name": "stdout",
     "output_type": "stream",
     "text": [
      "This is child class method...\n",
      "This is parent class method...\n"
     ]
    }
   ],
   "source": [
    "class Demo:\n",
    "    def func1(self):\n",
    "        print(\"This is parent class method...\")\n",
    "        \n",
    "\n",
    "class Demo1(Demo):\n",
    "    def func1(self):\n",
    "        print(\"This is child class method...\")\n",
    "        \n",
    "\n",
    "d1 = Demo1()\n",
    "d1.func1()\n",
    "d1 = Demo()\n",
    "d1.func1()"
   ]
  },
  {
   "cell_type": "markdown",
   "metadata": {},
   "source": [
    "# Method Overloading\n",
    "\n",
    "This isn't supported by python yet. <br/>\n",
    "The most recently defined method will be called only, others will be ignored"
   ]
  },
  {
   "cell_type": "code",
   "execution_count": 26,
   "metadata": {},
   "outputs": [
    {
     "name": "stdout",
     "output_type": "stream",
     "text": [
      "Sum : 60\n"
     ]
    }
   ],
   "source": [
    "class Demo:\n",
    "    def func1(self, a, b):\n",
    "        print(\"Sum :\", a+b)\n",
    "    \n",
    "    def func1(self, a, b, c):\n",
    "        print(\"Sum :\", a+b+c)\n",
    "        \n",
    "\n",
    "d1 = Demo()\n",
    "# d1.func1(10, 20)\n",
    "d1.func1(10, 20, 30)"
   ]
  },
  {
   "cell_type": "markdown",
   "metadata": {},
   "source": [
    "# Task 1"
   ]
  },
  {
   "cell_type": "code",
   "execution_count": 1,
   "metadata": {},
   "outputs": [
    {
     "name": "stdout",
     "output_type": "stream",
     "text": [
      "Sum : 60\n"
     ]
    }
   ],
   "source": [
    "class cal1:\n",
    "    a,b,c = 0,0,0\n",
    "    \n",
    "    def setdata(self, x, y, z):\n",
    "        self.a = x\n",
    "        self.b = y\n",
    "        self.c = z\n",
    "    \n",
    "    def display(self):\n",
    "        print(\"Sum :\", self.a + self.b + self.c)\n",
    "\n",
    "        \n",
    "ob = cal1()\n",
    "ob.setdata(10, 20 ,30)\n",
    "ob.display()"
   ]
  },
  {
   "cell_type": "markdown",
   "metadata": {},
   "source": [
    "# Task 2"
   ]
  },
  {
   "cell_type": "code",
   "execution_count": 21,
   "metadata": {},
   "outputs": [
    {
     "name": "stdout",
     "output_type": "stream",
     "text": [
      "Enter Radius : 10\n",
      "Area : 314.1592653589793\n"
     ]
    }
   ],
   "source": [
    "import math\n",
    "\n",
    "class cal2:\n",
    "    radius, a = 0, 0\n",
    "    \n",
    "    def setdata(self, r):\n",
    "        self.radius = float(input(\"Enter Radius : \"))\n",
    "        \n",
    "    def area(self):\n",
    "        self.a =  math.pi*(self.radius**2)\n",
    "    \n",
    "    def display(self):\n",
    "        self.area()\n",
    "        print(\"Area :\", self.a)\n",
    "        \n",
    "        \n",
    "ob = cal2()\n",
    "ob.setdata(10)\n",
    "ob.display()"
   ]
  },
  {
   "cell_type": "markdown",
   "metadata": {},
   "source": [
    "# Task 3"
   ]
  },
  {
   "cell_type": "code",
   "execution_count": 12,
   "metadata": {},
   "outputs": [
    {
     "name": "stdout",
     "output_type": "stream",
     "text": [
      "Simple Interest : 100.0\n"
     ]
    }
   ],
   "source": [
    "class cal3:\n",
    "    def __init__(self, p, r, n):\n",
    "        self.p = p\n",
    "        self.r = r\n",
    "        self.n = n\n",
    "        self.i = 0\n",
    "    \n",
    "    def calInterrest(self):\n",
    "        self.i = self.p*self.r*self.n/100.0\n",
    "        \n",
    "    def display(self):\n",
    "        print(\"Simple Interest :\", self.i)\n",
    "        \n",
    "        \n",
    "ob = cal3(1000, 10, 1)\n",
    "ob.calInterrest()\n",
    "ob.display()"
   ]
  },
  {
   "cell_type": "markdown",
   "metadata": {},
   "source": [
    "# Task 4"
   ]
  },
  {
   "cell_type": "code",
   "execution_count": 14,
   "metadata": {},
   "outputs": [
    {
     "name": "stdout",
     "output_type": "stream",
     "text": [
      "Square : 841\n"
     ]
    }
   ],
   "source": [
    "class cal4:\n",
    "    num = 0\n",
    "    \n",
    "    def setdata(self, num):\n",
    "        self.num = num\n",
    "        \n",
    "    def display(self):\n",
    "        return self.num**2\n",
    "    \n",
    "\n",
    "ob = cal4()\n",
    "ob.setdata(29)\n",
    "print(\"Square :\", ob.display())"
   ]
  },
  {
   "cell_type": "markdown",
   "metadata": {},
   "source": [
    "# Task 5"
   ]
  },
  {
   "cell_type": "code",
   "execution_count": 15,
   "metadata": {},
   "outputs": [
    {
     "name": "stdout",
     "output_type": "stream",
     "text": [
      "Name : Yash\n",
      "Designation : SDE\n",
      "Salary : 75000\n"
     ]
    }
   ],
   "source": [
    "class emp:\n",
    "    name = \"\"\n",
    "    designation = \"\"\n",
    "    \n",
    "    def set(self, nm, dsg):\n",
    "        self.name = nm\n",
    "        self.designation = dsg\n",
    "        \n",
    "    def get(self):\n",
    "        print(\"Name :\", self.name)\n",
    "        print(\"Designation :\", self.designation)\n",
    "        \n",
    "\n",
    "class employee(emp):\n",
    "    salary = 0\n",
    "    \n",
    "    def set(self, nm, dsg, sal):\n",
    "        self.name = nm\n",
    "        self.designation = dsg\n",
    "        self.salary = sal\n",
    "        \n",
    "    def get(self):\n",
    "        print(\"Name :\", self.name)\n",
    "        print(\"Designation :\", self.designation)\n",
    "        print(\"Salary :\", self.salary)\n",
    "        \n",
    "        \n",
    "ob = employee()\n",
    "ob.set(\"Yash\", \"SDE\", 75000)\n",
    "ob.get()"
   ]
  },
  {
   "cell_type": "markdown",
   "metadata": {},
   "source": [
    "# Task 6"
   ]
  },
  {
   "cell_type": "code",
   "execution_count": 18,
   "metadata": {},
   "outputs": [
    {
     "name": "stdout",
     "output_type": "stream",
     "text": [
      "Area : 80\n"
     ]
    }
   ],
   "source": [
    "class cal5:\n",
    "    l, b, a = 0, 0, 0\n",
    "    \n",
    "    def setdata(self, l, b):\n",
    "        self.l = l\n",
    "        self.b = b\n",
    "        \n",
    "    def area(self):\n",
    "        self.a =  self.l*self.b\n",
    "    \n",
    "    def display(self):\n",
    "        self.area()\n",
    "        print(\"Area :\", self.a)\n",
    "        \n",
    "        \n",
    "ob = cal5()\n",
    "ob.setdata(10, 8)\n",
    "ob.display()"
   ]
  },
  {
   "cell_type": "markdown",
   "metadata": {},
   "source": [
    "# Task 7"
   ]
  },
  {
   "cell_type": "code",
   "execution_count": 20,
   "metadata": {},
   "outputs": [
    {
     "name": "stdout",
     "output_type": "stream",
     "text": [
      "Area : 100\n"
     ]
    }
   ],
   "source": [
    "class cal6:\n",
    "    l, a = 0, 0\n",
    "    \n",
    "    def setdata(self, l):\n",
    "        self.l = l\n",
    "        \n",
    "    def area(self):\n",
    "        self.a =  self.l**2\n",
    "    \n",
    "    def display(self):\n",
    "        self.area()\n",
    "        print(\"Area :\", self.a)\n",
    "        \n",
    "        \n",
    "ob = cal6()\n",
    "ob.setdata(10)\n",
    "ob.display()"
   ]
  },
  {
   "cell_type": "markdown",
   "metadata": {},
   "source": [
    "# Task 8"
   ]
  },
  {
   "cell_type": "code",
   "execution_count": 23,
   "metadata": {},
   "outputs": [
    {
     "name": "stdout",
     "output_type": "stream",
     "text": [
      "Title : OOP\n",
      "Pages : 530\n",
      "Title : Music\n",
      "Runtime : 120\n"
     ]
    }
   ],
   "source": [
    "class publisher:\n",
    "    title = \"\"\n",
    "    \n",
    "    def __init__(self, title=\"\"):\n",
    "        self.title = title\n",
    "        \n",
    "    def setdata(self, title):\n",
    "        self.title = title\n",
    "        \n",
    "    def getdata(self):\n",
    "        print(\"Title :\", self.title)\n",
    "        \n",
    "        \n",
    "class book(publisher):\n",
    "    def __init__(self, title=\"\", pages=0):\n",
    "        super().__init__(title)\n",
    "        self.pages = pages\n",
    "        \n",
    "    def setdata(self, title, pages):\n",
    "        self.title = title\n",
    "        self.pages = pages\n",
    "        \n",
    "    def getdata(self):\n",
    "        print(\"Title :\", self.title)\n",
    "        print(\"Pages :\", self.pages)\n",
    "        \n",
    "        \n",
    "class tape(publisher):\n",
    "    def __init__(self, title=\"\", min=0):\n",
    "        super().__init__(title)\n",
    "        self.min = min\n",
    "        \n",
    "    def setdata(self, title, min):\n",
    "        self.title = title\n",
    "        self.min = min\n",
    "        \n",
    "    def getdata(self):\n",
    "        print(\"Title :\", self.title)\n",
    "        print(\"Runtime :\", self.min)\n",
    "        \n",
    "        \n",
    "ob = book(\"OOP\", 530)\n",
    "ob.getdata()\n",
    "\n",
    "ob = tape(\"Music\", 120)\n",
    "ob.getdata()"
   ]
  },
  {
   "cell_type": "markdown",
   "metadata": {},
   "source": [
    "# Task 9"
   ]
  },
  {
   "cell_type": "code",
   "execution_count": 25,
   "metadata": {},
   "outputs": [
    {
     "name": "stdout",
     "output_type": "stream",
     "text": [
      "Scheme ID : 1\n",
      "Scheme Name : Dhamaka\n",
      "Outgoing Rate : 1000\n",
      "Message Charge : 0\n",
      "Customer ID : 512\n",
      "Customer Name : Yash\n",
      "Contact : 9536601949\n"
     ]
    }
   ],
   "source": [
    "class scheme:\n",
    "    schm_id = 0\n",
    "    schm_name = \"\"\n",
    "    out_rate = 0\n",
    "    msg_charge = 0\n",
    "        \n",
    "    def setdata(self, id, name, rate, charge):\n",
    "        self.schm_id = id\n",
    "        self.schm_name = name\n",
    "        self.out_rate = rate\n",
    "        self.charge = charge\n",
    "        \n",
    "    def getdata(self):\n",
    "        print(\"Scheme ID :\", self.schm_id)\n",
    "        print(\"Scheme Name :\", self.schm_name)\n",
    "        print(\"Outgoing Rate :\", self.out_rate)\n",
    "        print(\"Message Charge :\", self.msg_charge)\n",
    "        \n",
    "        \n",
    "class customer(scheme):\n",
    "    cust_id = 0\n",
    "    cust_name = \"\"\n",
    "    cust_mobile = 0\n",
    "        \n",
    "    def setdata(self, id, name, rate, charge, c_id, c_name, mobile):\n",
    "        super().setdata(id, name, rate, charge)\n",
    "        self.cust_id = c_id\n",
    "        self.cust_name = c_name\n",
    "        self.cust_mobile = mobile\n",
    "        \n",
    "    def getdata(self):\n",
    "        super().getdata()\n",
    "        print(\"Customer ID :\", self.cust_id)\n",
    "        print(\"Customer Name :\", self.cust_name)\n",
    "        print(\"Contact :\", self.cust_mobile)\n",
    "        \n",
    "        \n",
    "ob = customer()\n",
    "ob.setdata(1, \"Dhamaka\", 1000, 5, 512, \"Yash\", 9536601949)\n",
    "ob.getdata()"
   ]
  },
  {
   "cell_type": "markdown",
   "metadata": {},
   "source": [
    "# Task 10"
   ]
  },
  {
   "cell_type": "code",
   "execution_count": 27,
   "metadata": {},
   "outputs": [
    {
     "name": "stdout",
     "output_type": "stream",
     "text": [
      "Addition : 50\n",
      "Subtraction : 10\n",
      "Multiplication : 600\n"
     ]
    }
   ],
   "source": [
    "class arith:\n",
    "    def __init__(self, n1=0, n2=0):\n",
    "        self.num1 = n1\n",
    "        self.num2 = n2\n",
    "        self.ans = 0\n",
    "        \n",
    "    def add(self):\n",
    "        self.ans = self.num1 + self.num2\n",
    "    \n",
    "    def subtract(self):\n",
    "        self.ans = self.num1 - self.num2\n",
    "    \n",
    "    def multiply(self):\n",
    "        self.ans = self.num1 * self.num2\n",
    "    \n",
    "    def getanswer(self):\n",
    "        return self.ans\n",
    "    \n",
    "    \n",
    "ob = arith(30, 20)\n",
    "ob.add()\n",
    "print(\"Addition :\", ob.getanswer())\n",
    "\n",
    "ob.subtract()\n",
    "print(\"Subtraction :\", ob.getanswer())\n",
    "\n",
    "ob.multiply()\n",
    "print(\"Multiplication :\", ob.getanswer())"
   ]
  },
  {
   "cell_type": "code",
   "execution_count": null,
   "metadata": {},
   "outputs": [],
   "source": []
  }
 ],
 "metadata": {
  "kernelspec": {
   "display_name": "Python 3",
   "language": "python",
   "name": "python3"
  },
  "language_info": {
   "codemirror_mode": {
    "name": "ipython",
    "version": 3
   },
   "file_extension": ".py",
   "mimetype": "text/x-python",
   "name": "python",
   "nbconvert_exporter": "python",
   "pygments_lexer": "ipython3",
   "version": "3.8.5"
  }
 },
 "nbformat": 4,
 "nbformat_minor": 4
}
