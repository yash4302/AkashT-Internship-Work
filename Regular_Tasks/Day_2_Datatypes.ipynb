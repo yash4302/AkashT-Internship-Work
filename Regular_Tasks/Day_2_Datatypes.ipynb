{
 "cells": [
  {
   "cell_type": "markdown",
   "metadata": {},
   "source": [
    "# Basic Datatypes\n",
    "\n",
    "1. Integer\n",
    "2. Real/Float\n",
    "3. String\n",
    "4. Complex\n",
    "5. Boolean"
   ]
  },
  {
   "cell_type": "code",
   "execution_count": 1,
   "metadata": {},
   "outputs": [
    {
     "name": "stdout",
     "output_type": "stream",
     "text": [
      "10 is of type <class 'int'>\n"
     ]
    }
   ],
   "source": [
    "x = 10\n",
    "print(x, \"is of type\", type(x)) #type() returns datatype"
   ]
  },
  {
   "cell_type": "code",
   "execution_count": 2,
   "metadata": {},
   "outputs": [
    {
     "name": "stdout",
     "output_type": "stream",
     "text": [
      "10.5 is of type <class 'float'>\n"
     ]
    }
   ],
   "source": [
    "x = 10.5\n",
    "print(x, \"is of type\", type(x))"
   ]
  },
  {
   "cell_type": "code",
   "execution_count": 3,
   "metadata": {},
   "outputs": [
    {
     "name": "stdout",
     "output_type": "stream",
     "text": [
      "My name is Yash Kavaiya\n"
     ]
    }
   ],
   "source": [
    "name = \"Yash Kavaiya\"\n",
    "print(\"My name is\", name)"
   ]
  },
  {
   "cell_type": "code",
   "execution_count": 4,
   "metadata": {},
   "outputs": [
    {
     "name": "stdout",
     "output_type": "stream",
     "text": [
      "(5+2j) is of type <class 'complex'>\n"
     ]
    }
   ],
   "source": [
    "x = 5 + 2j\n",
    "print(x, \"is of type\", type(x))"
   ]
  },
  {
   "cell_type": "code",
   "execution_count": 5,
   "metadata": {},
   "outputs": [
    {
     "name": "stdout",
     "output_type": "stream",
     "text": [
      "True is of type <class 'bool'>\n"
     ]
    }
   ],
   "source": [
    "x = True\n",
    "print(x, \"is of type\", type(x))"
   ]
  },
  {
   "cell_type": "code",
   "execution_count": 8,
   "metadata": {},
   "outputs": [
    {
     "data": {
      "text/plain": [
       "True"
      ]
     },
     "execution_count": 8,
     "metadata": {},
     "output_type": "execute_result"
    }
   ],
   "source": [
    "isinstance(x, bool)"
   ]
  },
  {
   "cell_type": "code",
   "execution_count": 9,
   "metadata": {},
   "outputs": [
    {
     "data": {
      "text/plain": [
       "False"
      ]
     },
     "execution_count": 9,
     "metadata": {},
     "output_type": "execute_result"
    }
   ],
   "source": [
    "isinstance(x, complex)"
   ]
  },
  {
   "cell_type": "markdown",
   "metadata": {},
   "source": [
    "# Operators\n",
    "\n",
    "1. Arithmatic: +, -, * *, /, //, %, ***\n",
    "2. Logical: and, or, not\n",
    "3. Relational: >, >=, <, <=, ==, !=\n",
    "4. Assignment: =, op=\n",
    "5. Membership: in, not in\n",
    "6. Bitwise\n",
    "7. Slicing\n",
    "8. Identity: is, is not"
   ]
  },
  {
   "cell_type": "code",
   "execution_count": 2,
   "metadata": {},
   "outputs": [
    {
     "name": "stdout",
     "output_type": "stream",
     "text": [
      "15\n",
      "3.3333333333333335\n",
      "3\n",
      "1\n",
      "1000\n",
      "False\n",
      "True\n"
     ]
    }
   ],
   "source": [
    "print(10 + 5)\n",
    "print(10/3)\n",
    "print(10//3)\n",
    "print(10%3)\n",
    "print(10**3)\n",
    "\n",
    "x = 10\n",
    "y = 20\n",
    "print(x is y)\n",
    "print(x is not y)"
   ]
  },
  {
   "cell_type": "code",
   "execution_count": 11,
   "metadata": {},
   "outputs": [
    {
     "name": "stdout",
     "output_type": "stream",
     "text": [
      "Y a s h\n",
      "Yash\n",
      "Kavaiya\n",
      "sh \n",
      "s aa\n",
      "ayiavaK hsaY\n",
      "iavaK hsaY\n"
     ]
    }
   ],
   "source": [
    "name = \"Yash Kavaiya\"\n",
    "\n",
    "print(name[0], name[1], name[2], name[3])\n",
    "print(name[:4])\n",
    "print(name[5:])\n",
    "print(name[2:5])\n",
    "print(name[2:9:2])\n",
    "print(name[::-1])\n",
    "print(name[9::-1])"
   ]
  },
  {
   "cell_type": "markdown",
   "metadata": {},
   "source": [
    "# More Datatypes\n",
    "\n",
    "1. List\n",
    "2. Tuples\n",
    "3. Dictionary\n",
    "4. Set"
   ]
  },
  {
   "cell_type": "code",
   "execution_count": 12,
   "metadata": {},
   "outputs": [
    {
     "name": "stdout",
     "output_type": "stream",
     "text": [
      "[10, 20, 30, 40]\n",
      "[10, 20.5, 'Yash', [10, 20]]\n",
      "\n",
      "Slicing in Lists\n",
      "Yash\n",
      "a\n",
      "10 20\n",
      "[10, 20.5]\n",
      "Y\n"
     ]
    }
   ],
   "source": [
    "x = [10, 20, 30, 40]\n",
    "print(x)\n",
    "\n",
    "x = [10, 20.5, \"Yash\", [10, 20]]\n",
    "print(x)\n",
    "\n",
    "print(\"\\nSlicing in Lists\")\n",
    "print(x[2])\n",
    "print(x[2][1])\n",
    "print(x[3][0], x[3][1])\n",
    "print(x[:2])\n",
    "print(x[2][:1])"
   ]
  },
  {
   "cell_type": "code",
   "execution_count": 14,
   "metadata": {},
   "outputs": [
    {
     "name": "stdout",
     "output_type": "stream",
     "text": [
      "(10, 20, 30, 40)\n",
      "(10, 20.5, 'Yash', [10, 20])\n",
      "\n",
      "Slicing in Tupples\n",
      "Yash\n",
      "a\n",
      "10 20\n",
      "(10, 20.5)\n",
      "Y\n"
     ]
    }
   ],
   "source": [
    "x = (10, 20, 30, 40)\n",
    "print(x)\n",
    "\n",
    "x = (10, 20.5, \"Yash\", [10, 20])\n",
    "print(x)\n",
    "\n",
    "print(\"\\nSlicing in Tupples\")\n",
    "print(x[2])\n",
    "print(x[2][1])\n",
    "print(x[3][0], x[3][1])\n",
    "print(x[:2])\n",
    "print(x[2][:1])"
   ]
  },
  {
   "cell_type": "code",
   "execution_count": 19,
   "metadata": {},
   "outputs": [
    {
     "name": "stdout",
     "output_type": "stream",
     "text": [
      "[10, 20.5, 'Yash', [10, 20]]\n",
      "(10, 20.5, 'Yash', [10, 20])\n"
     ]
    },
    {
     "ename": "TypeError",
     "evalue": "'tuple' object does not support item assignment",
     "output_type": "error",
     "traceback": [
      "\u001b[1;31m---------------------------------------------------------------------------\u001b[0m",
      "\u001b[1;31mTypeError\u001b[0m                                 Traceback (most recent call last)",
      "\u001b[1;32m<ipython-input-19-3a3db0366bd6>\u001b[0m in \u001b[0;36m<module>\u001b[1;34m\u001b[0m\n\u001b[0;32m      5\u001b[0m \u001b[1;33m\u001b[0m\u001b[0m\n\u001b[0;32m      6\u001b[0m \u001b[0mx\u001b[0m\u001b[1;33m[\u001b[0m\u001b[1;36m0\u001b[0m\u001b[1;33m]\u001b[0m \u001b[1;33m=\u001b[0m \u001b[1;36m20\u001b[0m\u001b[1;33m\u001b[0m\u001b[1;33m\u001b[0m\u001b[0m\n\u001b[1;32m----> 7\u001b[1;33m \u001b[0my\u001b[0m\u001b[1;33m[\u001b[0m\u001b[1;36m0\u001b[0m\u001b[1;33m]\u001b[0m \u001b[1;33m=\u001b[0m \u001b[1;36m20\u001b[0m\u001b[1;33m\u001b[0m\u001b[1;33m\u001b[0m\u001b[0m\n\u001b[0m",
      "\u001b[1;31mTypeError\u001b[0m: 'tuple' object does not support item assignment"
     ]
    }
   ],
   "source": [
    "x = [10, 20.5, \"Yash\", [10, 20]]\n",
    "print(x)\n",
    "y = (10, 20.5, \"Yash\", [10, 20])\n",
    "print(y)\n",
    "\n",
    "x[0] = 20\n",
    "y[0] = 20"
   ]
  },
  {
   "cell_type": "code",
   "execution_count": 20,
   "metadata": {},
   "outputs": [
    {
     "name": "stdout",
     "output_type": "stream",
     "text": [
      "Y before : (10, 20.5, 'Yash', [10, 20])\n",
      "Y after : (10, 20.5, 'Yash', [5, 20])\n"
     ]
    }
   ],
   "source": [
    "print(\"Y before :\", y)\n",
    "y[3][0] = 5\n",
    "print(\"Y after :\", y)"
   ]
  },
  {
   "cell_type": "code",
   "execution_count": 2,
   "metadata": {},
   "outputs": [
    {
     "name": "stdout",
     "output_type": "stream",
     "text": [
      "{'name': 'Yash Kavaiya', 'email': 'miteswati@gmail.com'}\n",
      "Yash Kavaiya\n",
      "miteswati@gmail.com\n"
     ]
    }
   ],
   "source": [
    "x = {\"name\": \"Yash Kavaiya\", \"email\": \"miteswati@gmail.com\"}\n",
    "print(x)\n",
    "print(x[\"name\"])\n",
    "print(x[\"email\"])"
   ]
  },
  {
   "cell_type": "code",
   "execution_count": 3,
   "metadata": {},
   "outputs": [
    {
     "name": "stdout",
     "output_type": "stream",
     "text": [
      "{'name': 'Yash Kavaiya', 'email': 'miteswati@gmail.com', 'contact': '0000000000'}\n"
     ]
    }
   ],
   "source": [
    "x[\"contact\"] = \"0000000000\"\n",
    "print(x)"
   ]
  },
  {
   "cell_type": "code",
   "execution_count": null,
   "metadata": {},
   "outputs": [],
   "source": []
  }
 ],
 "metadata": {
  "kernelspec": {
   "display_name": "Python 3",
   "language": "python",
   "name": "python3"
  },
  "language_info": {
   "codemirror_mode": {
    "name": "ipython",
    "version": 3
   },
   "file_extension": ".py",
   "mimetype": "text/x-python",
   "name": "python",
   "nbconvert_exporter": "python",
   "pygments_lexer": "ipython3",
   "version": "3.8.5"
  }
 },
 "nbformat": 4,
 "nbformat_minor": 4
}
